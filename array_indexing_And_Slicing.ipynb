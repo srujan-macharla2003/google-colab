{
  "nbformat": 4,
  "nbformat_minor": 0,
  "metadata": {
    "colab": {
      "provenance": [],
      "authorship_tag": "ABX9TyPnKK5kFeCmqZVfr71yZqxJ",
      "include_colab_link": true
    },
    "kernelspec": {
      "name": "python3",
      "display_name": "Python 3"
    },
    "language_info": {
      "name": "python"
    }
  },
  "cells": [
    {
      "cell_type": "markdown",
      "metadata": {
        "id": "view-in-github",
        "colab_type": "text"
      },
      "source": [
        "<a href=\"https://colab.research.google.com/github/srujan-macharla2003/google-colab/blob/main/array_indexing_And_Slicing.ipynb\" target=\"_parent\"><img src=\"https://colab.research.google.com/assets/colab-badge.svg\" alt=\"Open In Colab\"/></a>"
      ]
    },
    {
      "cell_type": "code",
      "execution_count": null,
      "metadata": {
        "id": "mLfz6bTNXk6T"
      },
      "outputs": [],
      "source": [
        "# Array indexing"
      ]
    },
    {
      "cell_type": "code",
      "source": [
        "# 1-d array\n",
        "import numpy as np\n",
        "var = np.array([1, 2, 3, 4, 5, 6])\n",
        "print(var[-2])"
      ],
      "metadata": {
        "colab": {
          "base_uri": "https://localhost:8080/"
        },
        "id": "6oc8CaK-X6Qx",
        "outputId": "d941ac76-27a6-45e0-d5c7-73fe079022d1"
      },
      "execution_count": null,
      "outputs": [
        {
          "output_type": "stream",
          "name": "stdout",
          "text": [
            "5\n"
          ]
        }
      ]
    },
    {
      "cell_type": "code",
      "source": [
        "# 2-d array\n",
        "var1 = np.array([[9, 8, 7], [4, 5, 6]])\n",
        "print(var1)\n",
        "print(var1.ndim)\n",
        "print(var1[0, 1])"
      ],
      "metadata": {
        "colab": {
          "base_uri": "https://localhost:8080/"
        },
        "id": "JGlSn8dDY7qB",
        "outputId": "0e090575-10e0-46b2-f7f5-b41143eb8737"
      },
      "execution_count": null,
      "outputs": [
        {
          "output_type": "stream",
          "name": "stdout",
          "text": [
            "[[9 8 7]\n",
            " [4 5 6]]\n",
            "2\n",
            "8\n"
          ]
        }
      ]
    },
    {
      "cell_type": "code",
      "source": [
        "#3-d array\n",
        "var2 = np.array([[[1, 2], [3, 4]]])\n",
        "print(var2)\n",
        "print(var2.ndim)\n",
        "print(var2[0, 0, 1])\n"
      ],
      "metadata": {
        "colab": {
          "base_uri": "https://localhost:8080/"
        },
        "id": "KedIr1fhaD0U",
        "outputId": "ff2b59e0-6c82-422a-d676-6a31b62fa5e2"
      },
      "execution_count": null,
      "outputs": [
        {
          "output_type": "stream",
          "name": "stdout",
          "text": [
            "[[[1 2]\n",
            "  [3 4]]]\n",
            "3\n",
            "2\n"
          ]
        }
      ]
    },
    {
      "cell_type": "markdown",
      "source": [
        "# array slicing"
      ],
      "metadata": {
        "id": "6i8CH0XFe_L_"
      }
    },
    {
      "cell_type": "code",
      "source": [
        "# 1-d array slicing\n",
        "# formula = [start:stop:step]\n",
        "import numpy as np\n",
        "var = np.array([1,2,3,4,5,6,7])\n",
        "print(var)\n",
        "print(var[1:5]) # for values between index 1 to 5, 5 excuded\n",
        "print(var[1:]) # for values betwenn index 1 to end\n",
        "print(var[:4]) # for values between start to index 4\n",
        "print(var[::]) # for values between start to end\n",
        "print(var[::2]) #for values between start to end with jumping frequency of 2 , 1 will be defulted\n"
      ],
      "metadata": {
        "colab": {
          "base_uri": "https://localhost:8080/"
        },
        "id": "4J7CFHFbfFon",
        "outputId": "ccb3d2b8-508e-419a-e9b3-7f91daac6517"
      },
      "execution_count": null,
      "outputs": [
        {
          "output_type": "stream",
          "name": "stdout",
          "text": [
            "[1 2 3 4 5 6 7]\n",
            "[2 3 4 5]\n",
            "[2 3 4 5 6 7]\n",
            "[1 2 3 4]\n",
            "[1 2 3 4 5 6 7]\n",
            "[1 3 5 7]\n"
          ]
        }
      ]
    },
    {
      "cell_type": "code",
      "source": [
        "# 2-d array\n",
        "# same as 1-d\n",
        "# formula [set index or row number, start:stop:step]\n",
        "var1 = np.array([[1, 2, 3, 4 ,5], [9, 8, 7, 6, 5], [11, 12, 13 , 14, 15]])\n",
        "print(var1.ndim)\n",
        "print(var1)\n",
        "print()\n",
        "print(var1[1, 1:5])"
      ],
      "metadata": {
        "colab": {
          "base_uri": "https://localhost:8080/"
        },
        "id": "3jwGpjrpjdC8",
        "outputId": "bc423240-a8cb-4db5-b8a2-2e71db57ff94"
      },
      "execution_count": null,
      "outputs": [
        {
          "output_type": "stream",
          "name": "stdout",
          "text": [
            "2\n",
            "[[ 1  2  3  4  5]\n",
            " [ 9  8  7  6  5]\n",
            " [11 12 13 14 15]]\n",
            "\n",
            "[8 7 6 5]\n"
          ]
        }
      ]
    },
    {
      "cell_type": "code",
      "source": [
        "# 3-d array\n",
        "# same as 1-d and 2-d\n",
        "# formula [main index  set number, set index or row number, start:stop:step]\n",
        "var2 = np.array([[[1, 2, 3, 4, 5],[6, 7, 8, 9, 10]], [[11, 12, 13, 14, 15], [16, 17, 18, 19, 20]]])\n",
        "print(var2.ndim)\n",
        "print(var2)\n",
        "print(var2[0,1,1:5])"
      ],
      "metadata": {
        "colab": {
          "base_uri": "https://localhost:8080/"
        },
        "id": "YN0cAR-BlHL7",
        "outputId": "205c18de-8436-4725-cc99-e0784fc77d95"
      },
      "execution_count": null,
      "outputs": [
        {
          "output_type": "stream",
          "name": "stdout",
          "text": [
            "3\n",
            "[[[ 1  2  3  4  5]\n",
            "  [ 6  7  8  9 10]]\n",
            "\n",
            " [[11 12 13 14 15]\n",
            "  [16 17 18 19 20]]]\n",
            "[ 7  8  9 10]\n"
          ]
        }
      ]
    },
    {
      "cell_type": "markdown",
      "source": [
        "## Copy And view\n",
        "Copy is a new array, and the View is just a view of the original array.\n",
        "\n",
        "Any changes made to the copy will not affect original array.\n",
        "\n",
        "Any changes made to the view will affect the original array.\n"
      ],
      "metadata": {
        "id": "Yp7RhJeso8IE"
      }
    },
    {
      "cell_type": "code",
      "source": [
        "# copy\n",
        "arr = np.array([1,2,3,4,5,6,7])\n",
        "print(arr)\n",
        "copy = arr.copy()\n",
        "print(copy)\n",
        "copy[0] = 44\n",
        "print(copy)"
      ],
      "metadata": {
        "colab": {
          "base_uri": "https://localhost:8080/"
        },
        "id": "Ah2OUUAkpOh3",
        "outputId": "c06afeab-94fb-42b2-ac17-379804ce96ef"
      },
      "execution_count": null,
      "outputs": [
        {
          "output_type": "stream",
          "name": "stdout",
          "text": [
            "[1 2 3 4 5 6 7]\n",
            "[1 2 3 4 5 6 7]\n",
            "[44  2  3  4  5  6  7]\n"
          ]
        }
      ]
    },
    {
      "cell_type": "code",
      "source": [
        "# view\n",
        "arr = np.array([1,2,3,4,5,6,7])\n",
        "print(arr)\n",
        "view = arr.view()\n",
        "print(view)\n",
        "view[0] = 22\n",
        "print(view)\n",
        "print(arr)"
      ],
      "metadata": {
        "colab": {
          "base_uri": "https://localhost:8080/"
        },
        "id": "Y0sspfBfp_h7",
        "outputId": "235b7307-0666-4c8a-bbe9-025b47430404"
      },
      "execution_count": null,
      "outputs": [
        {
          "output_type": "stream",
          "name": "stdout",
          "text": [
            "[1 2 3 4 5 6 7]\n",
            "[1 2 3 4 5 6 7]\n",
            "[22  2  3  4  5  6  7]\n",
            "[22  2  3  4  5  6  7]\n"
          ]
        }
      ]
    },
    {
      "cell_type": "code",
      "source": [],
      "metadata": {
        "id": "trw4Lyzksd1r"
      },
      "execution_count": null,
      "outputs": []
    }
  ]
}